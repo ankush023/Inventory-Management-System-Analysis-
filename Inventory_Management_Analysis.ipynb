{
 "cells": [
  {
   "cell_type": "code",
   "execution_count": 1,
   "id": "93bacc68",
   "metadata": {},
   "outputs": [],
   "source": [
    "# Import Libraries"
   ]
  },
  {
   "cell_type": "code",
   "execution_count": 2,
   "id": "4438d75e",
   "metadata": {},
   "outputs": [],
   "source": [
    "import pandas as pd\n",
    "import matplotlib.pyplot as plt\n",
    "import seaborn as sns"
   ]
  },
  {
   "cell_type": "code",
   "execution_count": 3,
   "id": "5c59fbdf",
   "metadata": {},
   "outputs": [],
   "source": [
    "# Load the dataset"
   ]
  },
  {
   "cell_type": "code",
   "execution_count": 4,
   "id": "53862f81",
   "metadata": {},
   "outputs": [],
   "source": [
    "df = pd.read_csv('dynamic_inventory_data.csv')"
   ]
  },
  {
   "cell_type": "code",
   "execution_count": 5,
   "id": "d3a08224",
   "metadata": {},
   "outputs": [],
   "source": [
    "# 1. Total Inventory Value"
   ]
  },
  {
   "cell_type": "code",
   "execution_count": null,
   "id": "546d2220",
   "metadata": {},
   "outputs": [],
   "source": [
    "df['Inventory Value'] = df['Quantity Available'] * df['Unit Price']\n",
    "total_inventory_value = df['Inventory Value'].sum()\n",
    "print(f'Total Inventory Value: ${total_inventory_value:.2f}')"
   ]
  },
  {
   "cell_type": "code",
   "execution_count": 7,
   "id": "3049ab90",
   "metadata": {},
   "outputs": [],
   "source": [
    "# Visualization (Pie Chart of Inventory Value by Category with Data Labels)"
   ]
  },
  {
   "cell_type": "code",
   "execution_count": null,
   "id": "6a1d0500",
   "metadata": {},
   "outputs": [],
   "source": [
    "inventory_value_by_category = df.groupby('Category')['Inventory Value'].sum()\n",
    "plt.figure(figsize=(8, 6))\n",
    "inventory_value_by_category.plot(kind='pie', autopct='%1.1f%%', startangle=140, colors=sns.color_palette('pastel'))\n",
    "plt.title('Inventory Value by Category')\n",
    "plt.ylabel('')\n",
    "plt.show()"
   ]
  },
  {
   "cell_type": "code",
   "execution_count": 9,
   "id": "ffac52c1",
   "metadata": {},
   "outputs": [],
   "source": [
    "# 2. Reorder Status"
   ]
  },
  {
   "cell_type": "code",
   "execution_count": null,
   "id": "05ca1a85",
   "metadata": {},
   "outputs": [],
   "source": [
    "df['Reorder Needed'] = df['Quantity Available'] < df['Reorder Level']\n",
    "reorder_counts = df['Reorder Needed'].value_counts()\n",
    "print('Reorder Status:\\n', reorder_counts)"
   ]
  },
  {
   "cell_type": "code",
   "execution_count": 11,
   "id": "e8d064fe",
   "metadata": {},
   "outputs": [],
   "source": [
    "# Visualization (Gauge Chart Equivalent using Bar with Data Labels)"
   ]
  },
  {
   "cell_type": "code",
   "execution_count": null,
   "id": "b11beadf",
   "metadata": {},
   "outputs": [],
   "source": [
    "plt.figure(figsize=(8, 5))\n",
    "sns.barplot(x=reorder_counts.index, y=reorder_counts.values, palette='viridis')\n",
    "for i, value in enumerate(reorder_counts.values):\n",
    "    plt.text(i, value, f'{value}', ha='center', va='bottom', fontsize=10, color='black')\n",
    "plt.title('Reorder Status')\n",
    "plt.xlabel('Reorder Needed')\n",
    "plt.ylabel('Count')\n",
    "plt.xticks([0, 1], ['No', 'Yes'])\n",
    "plt.show()"
   ]
  },
  {
   "cell_type": "code",
   "execution_count": 13,
   "id": "5cdff0e6",
   "metadata": {},
   "outputs": [],
   "source": [
    "# 3. Monthly Sales Trends"
   ]
  },
  {
   "cell_type": "code",
   "execution_count": null,
   "id": "2534d962",
   "metadata": {},
   "outputs": [],
   "source": [
    "df['Last Restocked Date'] = pd.to_datetime(df['Last Restocked Date'])\n",
    "monthly_sales = df.resample('M', on='Last Restocked Date')['Quantity Sold'].sum()"
   ]
  },
  {
   "cell_type": "code",
   "execution_count": 15,
   "id": "03e6eb4c",
   "metadata": {},
   "outputs": [],
   "source": [
    "# Visualization (Line Chart with Data Labels)"
   ]
  },
  {
   "cell_type": "code",
   "execution_count": null,
   "id": "8458195e",
   "metadata": {},
   "outputs": [],
   "source": [
    "plt.figure(figsize=(10, 5))\n",
    "sns.lineplot(data=monthly_sales, marker='o', color='dodgerblue')\n",
    "for x, y in zip(monthly_sales.index, monthly_sales.values):\n",
    "    plt.text(x, y, f'{y:.0f}', ha='center', va='bottom', fontsize=9, color='black')\n",
    "plt.title('Monthly Sales Trends')\n",
    "plt.xlabel('Month')\n",
    "plt.ylabel('Quantity Sold')\n",
    "plt.xticks(rotation=45)\n",
    "plt.grid(visible=True, linestyle='--', alpha=0.5)\n",
    "plt.show()"
   ]
  },
  {
   "cell_type": "code",
   "execution_count": 17,
   "id": "655a1ce1",
   "metadata": {},
   "outputs": [],
   "source": [
    "# 4. Stock Levels by Category"
   ]
  },
  {
   "cell_type": "code",
   "execution_count": 18,
   "id": "5e98d0a1",
   "metadata": {},
   "outputs": [],
   "source": [
    "stock_by_category = df.groupby('Category')['Quantity Available'].sum()"
   ]
  },
  {
   "cell_type": "code",
   "execution_count": 19,
   "id": "8dda95be",
   "metadata": {},
   "outputs": [],
   "source": [
    "# Visualization (Bar Chart with Data Labels)"
   ]
  },
  {
   "cell_type": "code",
   "execution_count": null,
   "id": "7392bfad",
   "metadata": {},
   "outputs": [],
   "source": [
    "plt.figure(figsize=(10, 6))\n",
    "sns.barplot(x=stock_by_category.index, y=stock_by_category.values, palette='viridis')\n",
    "for i, value in enumerate(stock_by_category.values):\n",
    "    plt.text(i, value, f'{value}', ha='center', va='bottom', fontsize=9, color='black')\n",
    "plt.title('Stock Levels by Category')\n",
    "plt.xlabel('Category')\n",
    "plt.ylabel('Quantity Available')\n",
    "plt.xticks(rotation=45)\n",
    "plt.show()"
   ]
  },
  {
   "cell_type": "code",
   "execution_count": 21,
   "id": "404f61bf",
   "metadata": {},
   "outputs": [],
   "source": [
    "# 5. Supplier Performance"
   ]
  },
  {
   "cell_type": "code",
   "execution_count": 22,
   "id": "20d37950",
   "metadata": {},
   "outputs": [],
   "source": [
    "supplier_distribution = df.groupby('Supplier Name')['Quantity Available'].sum()"
   ]
  },
  {
   "cell_type": "code",
   "execution_count": 23,
   "id": "f6de8678",
   "metadata": {},
   "outputs": [],
   "source": [
    "# Visualization (Pie Chart with Data Labels)"
   ]
  },
  {
   "cell_type": "code",
   "execution_count": null,
   "id": "0fea688e",
   "metadata": {},
   "outputs": [],
   "source": [
    "plt.figure(figsize=(8, 6))\n",
    "supplier_distribution.plot(kind='pie', autopct='%1.1f%%', startangle=140, colors=sns.color_palette('Set3'))\n",
    "plt.title('Supplier Performance (Stock Distribution)')\n",
    "plt.ylabel('')\n",
    "plt.show()"
   ]
  },
  {
   "cell_type": "code",
   "execution_count": 25,
   "id": "18895b0d",
   "metadata": {},
   "outputs": [],
   "source": [
    "# 6. Average Reorder Lead Time"
   ]
  },
  {
   "cell_type": "code",
   "execution_count": null,
   "id": "47d0fb94",
   "metadata": {},
   "outputs": [],
   "source": [
    "average_lead_time = df['Lead Time (Days)'].mean()\n",
    "print(f'Average Reorder Lead Time: {average_lead_time:.2f} days')"
   ]
  },
  {
   "cell_type": "code",
   "execution_count": 27,
   "id": "05b7521e",
   "metadata": {},
   "outputs": [],
   "source": [
    "# 7. Stockout Rate"
   ]
  },
  {
   "cell_type": "code",
   "execution_count": null,
   "id": "941d6ec3",
   "metadata": {},
   "outputs": [],
   "source": [
    "stockout_count = (df['Quantity Available'] == 0).sum()\n",
    "stockout_rate = stockout_count / len(df) * 100\n",
    "print(f'Stockout Rate: {stockout_rate:.2f}%')"
   ]
  },
  {
   "cell_type": "code",
   "execution_count": 29,
   "id": "aeec2aea",
   "metadata": {},
   "outputs": [],
   "source": [
    "# Visualization (Pie Chart with Data Labels)"
   ]
  },
  {
   "cell_type": "code",
   "execution_count": null,
   "id": "b8a0bd01",
   "metadata": {},
   "outputs": [],
   "source": [
    "plt.figure(figsize=(8, 5))\n",
    "plt.pie([stockout_count, len(df) - stockout_count], labels=['Stockout', 'In Stock'], autopct='%1.1f%%', startangle=140, colors=['#ff9999','#66b3ff'])\n",
    "plt.title('Stockout Rate')\n",
    "plt.show()"
   ]
  },
  {
   "cell_type": "code",
   "execution_count": 31,
   "id": "91218736",
   "metadata": {},
   "outputs": [],
   "source": [
    "# 8. Inventory Turnover Ratio"
   ]
  },
  {
   "cell_type": "code",
   "execution_count": null,
   "id": "6ec5694e",
   "metadata": {},
   "outputs": [],
   "source": [
    "inventory_turnover_ratio = df['Quantity Sold'].sum() / total_inventory_value\n",
    "print(f'Inventory Turnover Ratio: {inventory_turnover_ratio:.4f}')"
   ]
  }
 ],
 "metadata": {
  "kernelspec": {
   "display_name": "Python 3",
   "language": "python",
   "name": "python3"
  },
  "language_info": {
   "codemirror_mode": {
    "name": "ipython",
    "version": 3
   },
   "file_extension": ".py",
   "mimetype": "text/x-python",
   "name": "python",
   "nbconvert_exporter": "python",
   "pygments_lexer": "ipython3",
   "version": "3.12.5"
  }
 },
 "nbformat": 4,
 "nbformat_minor": 5
}
